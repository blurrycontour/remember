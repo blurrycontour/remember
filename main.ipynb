{
 "cells": [
  {
   "cell_type": "code",
   "execution_count": 1,
   "metadata": {},
   "outputs": [],
   "source": [
    "from remember import (\n",
    "    Brainy,\n",
    "    Category,\n",
    "    FlashCard\n",
    ")\n",
    "\n",
    "app = Brainy('data/better.pkl')\n",
    "# app.delete()"
   ]
  },
  {
   "cell_type": "code",
   "execution_count": 2,
   "metadata": {},
   "outputs": [
    {
     "name": "stdout",
     "output_type": "stream",
     "text": [
      "Category already exists!\n",
      "Updating card in category 'पुराण'\n",
      "Updating card in category 'पुराण'\n"
     ]
    }
   ],
   "source": [
    "app.add_category(Category(\"पुराण\"))\n",
    "app.add_card(\"पुराण\", FlashCard(\"४ ब्रह्मा पुत्र\", \"सनक सनन्दन सनातन सनतकुमार\"))\n",
    "app.add_card(\"पुराण\", FlashCard(\"९ ब्रह्मा\", \"भृगु अत्री अङ्गिरा पुलस्त्य पुलह क्रतु वसिष्ठ दक्ष मरीचि\"))"
   ]
  },
  {
   "cell_type": "code",
   "execution_count": 3,
   "metadata": {},
   "outputs": [
    {
     "name": "stdout",
     "output_type": "stream",
     "text": [
      "Category already exists!\n",
      "Updating card in category 'Test'\n"
     ]
    }
   ],
   "source": [
    "app.add_category(Category(\"Test\"))\n",
    "app.add_card(\"Test\", FlashCard(\"Question\", \"Answer\"))"
   ]
  },
  {
   "cell_type": "code",
   "execution_count": 4,
   "metadata": {},
   "outputs": [
    {
     "name": "stdout",
     "output_type": "stream",
     "text": [
      "\n",
      "[पुराण]\n",
      "-------\n",
      "४ ब्रह्मा पुत्र : सनक सनन्दन सनातन सनतकुमार\n",
      "९ ब्रह्मा : भृगु अत्री अङ्गिरा पुलस्त्य पुलह क्रतु वसिष्ठ दक्ष मरीचि\n",
      "\n",
      "[Test]\n",
      "------\n",
      "Question : Answer\n",
      "\n"
     ]
    }
   ],
   "source": [
    "app.show()"
   ]
  },
  {
   "cell_type": "code",
   "execution_count": 5,
   "metadata": {},
   "outputs": [
    {
     "name": "stdout",
     "output_type": "stream",
     "text": [
      "४ ब्रह्मा पुत्र : सनक सनन्दन सनातन सनतकुमार\n"
     ]
    }
   ],
   "source": [
    "app.random(category_name=\"पुराण\", decorator=False)"
   ]
  }
 ],
 "metadata": {
  "kernelspec": {
   "display_name": "brainy",
   "language": "python",
   "name": "python3"
  },
  "language_info": {
   "codemirror_mode": {
    "name": "ipython",
    "version": 3
   },
   "file_extension": ".py",
   "mimetype": "text/x-python",
   "name": "python",
   "nbconvert_exporter": "python",
   "pygments_lexer": "ipython3",
   "version": "3.12.3"
  }
 },
 "nbformat": 4,
 "nbformat_minor": 2
}
