{
 "cells": [
  {
   "cell_type": "code",
   "execution_count": 1,
   "metadata": {},
   "outputs": [],
   "source": [
    "from remember import (\n",
    "    Remember,\n",
    "    Category,\n",
    "    FlashCard\n",
    ")\n",
    "\n",
    "app = Remember('data/master.pkl')\n",
    "# app.delete()"
   ]
  },
  {
   "cell_type": "code",
   "execution_count": 2,
   "metadata": {},
   "outputs": [
    {
     "name": "stdout",
     "output_type": "stream",
     "text": [
      "Creating category 'पुराण'\n",
      "Adding card to category 'पुराण'\n",
      "Adding card to category 'पुराण'\n"
     ]
    },
    {
     "data": {
      "text/plain": [
       "'e27f2937bd0b68d5bdaf225a5ad3ae31'"
      ]
     },
     "execution_count": 2,
     "metadata": {},
     "output_type": "execute_result"
    }
   ],
   "source": [
    "app.add_category(Category(\"पुराण\"))\n",
    "app.add_card(FlashCard(\"पुराण\", \"४ ब्रह्मा पुत्र\", \"सनक सनन्दन सनातन सनतकुमार\"))\n",
    "app.add_card(FlashCard(\"पुराण\", \"९ ब्रह्मा\", \"भृगु अत्री अङ्गिरा पुलस्त्य पुलह क्रतु वसिष्ठ दक्ष मरीचि\"))"
   ]
  },
  {
   "cell_type": "code",
   "execution_count": 3,
   "metadata": {},
   "outputs": [
    {
     "name": "stdout",
     "output_type": "stream",
     "text": [
      "Creating category 'Test'\n",
      "Adding card to category 'Test'\n"
     ]
    },
    {
     "data": {
      "text/plain": [
       "'284ded8d8d0dfc7dbf1d201c0a3d0c65'"
      ]
     },
     "execution_count": 3,
     "metadata": {},
     "output_type": "execute_result"
    }
   ],
   "source": [
    "app.add_category(Category(\"Test\"))\n",
    "app.add_card(FlashCard(\"Test\", \"Question\", \"Answer\"))"
   ]
  },
  {
   "cell_type": "code",
   "execution_count": 4,
   "metadata": {},
   "outputs": [
    {
     "name": "stdout",
     "output_type": "stream",
     "text": [
      "[{'Name': 'पुराण', 'Number of Cards': 2}, {'Name': 'Test', 'Number of Cards': 1}, {'Name': 'Web', 'Number of Cards': 0}]\n"
     ]
    },
    {
     "data": {
      "text/plain": [
       "[{'Name': 'पुराण',\n",
       "  'Number of Cards': 2,\n",
       "  'Cards': ['४ ब्रह्मा पुत्र : सनक सनन्दन सनातन सनतकुमार',\n",
       "   '९ ब्रह्मा : भृगु अत्री अङ्गिरा पुलस्त्य पुलह क्रतु वसिष्ठ दक्ष मरीचि']},\n",
       " {'Name': 'Test', 'Number of Cards': 1, 'Cards': ['Question : Answer']},\n",
       " {'Name': 'Web', 'Number of Cards': 0, 'Cards': []}]"
      ]
     },
     "execution_count": 4,
     "metadata": {},
     "output_type": "execute_result"
    }
   ],
   "source": [
    "app.get_all(verbose=False)"
   ]
  },
  {
   "cell_type": "code",
   "execution_count": 5,
   "metadata": {},
   "outputs": [
    {
     "ename": "AttributeError",
     "evalue": "'Remember' object has no attribute 'show'",
     "output_type": "error",
     "traceback": [
      "\u001b[1;31m---------------------------------------------------------------------------\u001b[0m",
      "\u001b[1;31mAttributeError\u001b[0m                            Traceback (most recent call last)",
      "Cell \u001b[1;32mIn[5], line 1\u001b[0m\n\u001b[1;32m----> 1\u001b[0m \u001b[43mapp\u001b[49m\u001b[38;5;241;43m.\u001b[39;49m\u001b[43mshow\u001b[49m()\n",
      "\u001b[1;31mAttributeError\u001b[0m: 'Remember' object has no attribute 'show'"
     ]
    }
   ],
   "source": [
    "app.show()"
   ]
  },
  {
   "cell_type": "code",
   "execution_count": null,
   "metadata": {},
   "outputs": [],
   "source": [
    "# app.remove_card(card_id=\"284ded8d8d0dfc7dbf1d201c0a3d0c65\")\n",
    "# app.remove_category(category_name=\"Test\")"
   ]
  },
  {
   "cell_type": "code",
   "execution_count": null,
   "metadata": {},
   "outputs": [
    {
     "ename": "KeyError",
     "evalue": "'पुराण'",
     "output_type": "error",
     "traceback": [
      "\u001b[1;31m---------------------------------------------------------------------------\u001b[0m",
      "\u001b[1;31mKeyError\u001b[0m                                  Traceback (most recent call last)",
      "Cell \u001b[1;32mIn[7], line 1\u001b[0m\n\u001b[1;32m----> 1\u001b[0m \u001b[43mapp\u001b[49m\u001b[38;5;241;43m.\u001b[39;49m\u001b[43mrandom\u001b[49m\u001b[43m(\u001b[49m\u001b[43mcategory_name\u001b[49m\u001b[38;5;241;43m=\u001b[39;49m\u001b[38;5;124;43m\"\u001b[39;49m\u001b[38;5;124;43mपुराण\u001b[39;49m\u001b[38;5;124;43m\"\u001b[39;49m\u001b[43m,\u001b[49m\u001b[43m \u001b[49m\u001b[43mdecorator\u001b[49m\u001b[38;5;241;43m=\u001b[39;49m\u001b[38;5;28;43;01mFalse\u001b[39;49;00m\u001b[43m)\u001b[49m\n",
      "File \u001b[1;32mE:\\Code\\remember\\src\\remember\\app.py:118\u001b[0m, in \u001b[0;36mRemember.random\u001b[1;34m(self, category_name, decorator)\u001b[0m\n\u001b[0;32m    116\u001b[0m \u001b[38;5;28;01mif\u001b[39;00m \u001b[38;5;129;01mnot\u001b[39;00m category_name:\n\u001b[0;32m    117\u001b[0m     category_id \u001b[38;5;241m=\u001b[39m random\u001b[38;5;241m.\u001b[39mchoice(\u001b[38;5;28mlist\u001b[39m(\u001b[38;5;28mself\u001b[39m\u001b[38;5;241m.\u001b[39mdata\u001b[38;5;241m.\u001b[39mkeys()))\n\u001b[1;32m--> 118\u001b[0m \u001b[38;5;28;43mself\u001b[39;49m\u001b[38;5;241;43m.\u001b[39;49m\u001b[43mdata\u001b[49m\u001b[43m[\u001b[49m\u001b[43mcategory_name\u001b[49m\u001b[43m]\u001b[49m\u001b[38;5;241m.\u001b[39mrandom(decorator\u001b[38;5;241m=\u001b[39mdecorator)\n",
      "\u001b[1;31mKeyError\u001b[0m: 'पुराण'"
     ]
    }
   ],
   "source": [
    "app.random(category_name=\"पुराण\", decorator=False)"
   ]
  }
 ],
 "metadata": {
  "kernelspec": {
   "display_name": "brainy",
   "language": "python",
   "name": "python3"
  },
  "language_info": {
   "codemirror_mode": {
    "name": "ipython",
    "version": 3
   },
   "file_extension": ".py",
   "mimetype": "text/x-python",
   "name": "python",
   "nbconvert_exporter": "python",
   "pygments_lexer": "ipython3",
   "version": "3.12.3"
  }
 },
 "nbformat": 4,
 "nbformat_minor": 2
}
