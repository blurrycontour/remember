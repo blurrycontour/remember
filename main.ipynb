{
 "cells": [
  {
   "cell_type": "code",
   "execution_count": 1,
   "metadata": {},
   "outputs": [],
   "source": [
    "from remember import (\n",
    "    Remember,\n",
    "    Category,\n",
    "    FlashCard\n",
    ")\n",
    "\n",
    "app = Remember('data/master.pkl')\n",
    "# app.delete()"
   ]
  },
  {
   "cell_type": "code",
   "execution_count": 2,
   "metadata": {},
   "outputs": [
    {
     "name": "stdout",
     "output_type": "stream",
     "text": [
      "Creating category 'पुराण'\n",
      "Adding card to category 'पुराण'\n",
      "Adding card to category 'पुराण'\n"
     ]
    },
    {
     "data": {
      "text/plain": [
       "'e27f2937bd0b68d5bdaf225a5ad3ae31'"
      ]
     },
     "execution_count": 2,
     "metadata": {},
     "output_type": "execute_result"
    }
   ],
   "source": [
    "app.add_category(Category(\"पुराण\"))\n",
    "app.add_card(FlashCard(\"पुराण\", \"४ ब्रह्मा पुत्र\", \"सनक सनन्दन सनातन सनतकुमार\"))\n",
    "app.add_card(FlashCard(\"पुराण\", \"९ ब्रह्मा\", \"भृगु अत्री अङ्गिरा पुलस्त्य पुलह क्रतु वसिष्ठ दक्ष मरीचि\"))"
   ]
  },
  {
   "cell_type": "code",
   "execution_count": 3,
   "metadata": {},
   "outputs": [
    {
     "name": "stdout",
     "output_type": "stream",
     "text": [
      "Creating category 'Test'\n",
      "Adding card to category 'Test'\n"
     ]
    },
    {
     "data": {
      "text/plain": [
       "'284ded8d8d0dfc7dbf1d201c0a3d0c65'"
      ]
     },
     "execution_count": 3,
     "metadata": {},
     "output_type": "execute_result"
    }
   ],
   "source": [
    "app.add_category(Category(\"Test\"))\n",
    "app.add_card(FlashCard(\"Test\", \"Question\", \"Answer\"))"
   ]
  },
  {
   "cell_type": "code",
   "execution_count": 4,
   "metadata": {},
   "outputs": [
    {
     "name": "stdout",
     "output_type": "stream",
     "text": [
      "[{'Name': 'पुराण', '#Cards': 2}, {'Name': 'Test', '#Cards': 1}]\n"
     ]
    },
    {
     "data": {
      "text/plain": [
       "[{'Name': 'पुराण',\n",
       "  '#Cards': 2,\n",
       "  'Cards': ['४ ब्रह्मा पुत्र : सनक सनन्दन सनातन सनतकुमार',\n",
       "   '९ ब्रह्मा : भृगु अत्री अङ्गिरा पुलस्त्य पुलह क्रतु वसिष्ठ दक्ष मरीचि']},\n",
       " {'Name': 'Test', '#Cards': 1, 'Cards': ['Question : Answer']}]"
      ]
     },
     "execution_count": 4,
     "metadata": {},
     "output_type": "execute_result"
    }
   ],
   "source": [
    "app.get_all(verbose=False)"
   ]
  },
  {
   "cell_type": "code",
   "execution_count": 5,
   "metadata": {},
   "outputs": [],
   "source": [
    "# app.remove_card(card_id=\"284ded8d8d0dfc7dbf1d201c0a3d0c65\")\n",
    "# app.remove_category(category_name=\"Test\")"
   ]
  },
  {
   "cell_type": "code",
   "execution_count": 8,
   "metadata": {},
   "outputs": [
    {
     "data": {
      "text/plain": [
       "'९ ब्रह्मा : भृगु अत्री अङ्गिरा पुलस्त्य पुलह क्रतु वसिष्ठ दक्ष मरीचि'"
      ]
     },
     "execution_count": 8,
     "metadata": {},
     "output_type": "execute_result"
    }
   ],
   "source": [
    "app.random(category_name=\"पुराण\")"
   ]
  },
  {
   "cell_type": "code",
   "execution_count": 9,
   "metadata": {},
   "outputs": [],
   "source": [
    "class SingletonMeta(type):\n",
    "    _instances = {}\n",
    "\n",
    "    def __call__(cls, *args, **kwargs):\n",
    "        print(\"__call__\")\n",
    "        if cls not in cls._instances:\n",
    "            cls._instances[cls] = super().__call__(*args, **kwargs)\n",
    "        return cls._instances[cls]\n",
    "\n",
    "class Singleton(metaclass=SingletonMeta):\n",
    "    def __init__(self, *args, **kwargs):\n",
    "        print(\"__init__\", args, kwargs)\n",
    "\n",
    "class Singleton2(metaclass=SingletonMeta):\n",
    "    def __init__(self, *args, **kwargs):\n",
    "        print(\"__init__\", args, kwargs)"
   ]
  },
  {
   "cell_type": "code",
   "execution_count": 13,
   "metadata": {},
   "outputs": [
    {
     "name": "stdout",
     "output_type": "stream",
     "text": [
      "__call__\n",
      "__call__\n",
      "__call__\n"
     ]
    },
    {
     "ename": "AttributeError",
     "evalue": "'Singleton' object has no attribute '_instances'",
     "output_type": "error",
     "traceback": [
      "\u001b[1;31m---------------------------------------------------------------------------\u001b[0m",
      "\u001b[1;31mAttributeError\u001b[0m                            Traceback (most recent call last)",
      "Cell \u001b[1;32mIn[13], line 4\u001b[0m\n\u001b[0;32m      2\u001b[0m s \u001b[38;5;241m=\u001b[39m Singleton(y\u001b[38;5;241m=\u001b[39m\u001b[38;5;241m1\u001b[39m)\n\u001b[0;32m      3\u001b[0m s \u001b[38;5;241m=\u001b[39m Singleton()\n\u001b[1;32m----> 4\u001b[0m \u001b[43ms\u001b[49m\u001b[38;5;241;43m.\u001b[39;49m\u001b[43m_instances\u001b[49m\n",
      "\u001b[1;31mAttributeError\u001b[0m: 'Singleton' object has no attribute '_instances'"
     ]
    }
   ],
   "source": [
    "s = Singleton(x=10)\n",
    "s = Singleton(y=1)\n",
    "s = Singleton()\n",
    "s._instances"
   ]
  },
  {
   "cell_type": "code",
   "execution_count": 11,
   "metadata": {},
   "outputs": [
    {
     "data": {
      "text/plain": [
       "{__main__.Singleton: <__main__.Singleton at 0x181a61dbf80>}"
      ]
     },
     "execution_count": 11,
     "metadata": {},
     "output_type": "execute_result"
    }
   ],
   "source": [
    "Singleton2._instances"
   ]
  }
 ],
 "metadata": {
  "kernelspec": {
   "display_name": "brainy",
   "language": "python",
   "name": "python3"
  },
  "language_info": {
   "codemirror_mode": {
    "name": "ipython",
    "version": 3
   },
   "file_extension": ".py",
   "mimetype": "text/x-python",
   "name": "python",
   "nbconvert_exporter": "python",
   "pygments_lexer": "ipython3",
   "version": "3.12.3"
  }
 },
 "nbformat": 4,
 "nbformat_minor": 2
}
