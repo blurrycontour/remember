{
 "cells": [
  {
   "cell_type": "code",
   "execution_count": 1,
   "metadata": {},
   "outputs": [],
   "source": [
    "import pymongo\n",
    "import dotenv\n",
    "import os\n",
    "\n",
    "dotenv.load_dotenv(\"../.env\")\n",
    "\n",
    "MONGODB_STRING = os.getenv(\"MONGODB_STRING\")\n",
    "ENV = os.getenv(\"ENV\").lower()"
   ]
  },
  {
   "cell_type": "code",
   "execution_count": 2,
   "metadata": {},
   "outputs": [
    {
     "name": "stdout",
     "output_type": "stream",
     "text": [
      "Connected to MongoDB server successfully!\n",
      "Databases:  ['dev', 'prod']\n"
     ]
    }
   ],
   "source": [
    "client = pymongo.MongoClient(MONGODB_STRING)\n",
    "\n",
    "# Test the connection\n",
    "try:\n",
    "    client.server_info()\n",
    "    print(\"Connected to MongoDB server successfully!\")\n",
    "except Exception as e:\n",
    "    print(\"Failed to connect to MongoDB server: \", e)\n",
    "\n",
    "# List all databases\n",
    "database_names = client.list_database_names()\n",
    "print(\"Databases: \", database_names)"
   ]
  },
  {
   "cell_type": "code",
   "execution_count": 9,
   "metadata": {},
   "outputs": [
    {
     "name": "stdout",
     "output_type": "stream",
     "text": [
      "Databases:  ['admin', 'config', 'dev', 'local', 'prod', 'prod1']\n"
     ]
    }
   ],
   "source": [
    "db = client[ENV]\n",
    "collection_name = \"users\"\n",
    "collection = db[collection_name]\n",
    "collection.insert_one({\"name\": \"John Doe\", \"email\": \"john.doe@example.com\"})\n",
    "\n",
    "database_names = client.list_database_names()\n",
    "print(\"Databases: \", database_names)"
   ]
  }
 ],
 "metadata": {
  "kernelspec": {
   "display_name": "remember",
   "language": "python",
   "name": "python3"
  },
  "language_info": {
   "codemirror_mode": {
    "name": "ipython",
    "version": 3
   },
   "file_extension": ".py",
   "mimetype": "text/x-python",
   "name": "python",
   "nbconvert_exporter": "python",
   "pygments_lexer": "ipython3",
   "version": "3.12.3"
  }
 },
 "nbformat": 4,
 "nbformat_minor": 2
}
