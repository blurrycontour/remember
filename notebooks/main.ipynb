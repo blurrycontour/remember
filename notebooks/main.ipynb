{
 "cells": [
  {
   "cell_type": "code",
   "execution_count": 1,
   "metadata": {},
   "outputs": [],
   "source": [
    "from remember import (\n",
    "    Remember,\n",
    "    Category,\n",
    "    FlashCard\n",
    ")\n",
    "\n",
    "app = Remember('data/master.pkl')\n",
    "# app.delete()"
   ]
  },
  {
   "cell_type": "code",
   "execution_count": null,
   "metadata": {},
   "outputs": [],
   "source": [
    "app.add_category(Category(\"पुराण\"))\n",
    "app.add_card(FlashCard(\"पुराण\", \"४ ब्रह्मा पुत्र\", \"सनक सनन्दन सनातन सनतकुमार\"))\n",
    "app.add_card(FlashCard(\"पुराण\", \"९ ब्रह्मा\", \"भृगु अत्री अङ्गिरा पुलस्त्य पुलह क्रतु वसिष्ठ दक्ष मरीचि\"))"
   ]
  },
  {
   "cell_type": "code",
   "execution_count": null,
   "metadata": {},
   "outputs": [],
   "source": [
    "app.add_category(Category(\"Test\"))\n",
    "app.add_card(FlashCard(\"Test\", \"Question\", \"Answer\"))"
   ]
  },
  {
   "cell_type": "code",
   "execution_count": 2,
   "metadata": {},
   "outputs": [
    {
     "name": "stdout",
     "output_type": "stream",
     "text": [
      "[{'Name': 'पुराण', '#Cards': 5}, {'Name': 'Test', '#Cards': 1}, {'Name': 'Facts', '#Cards': 4}]\n"
     ]
    },
    {
     "data": {
      "text/plain": [
       "[{'Name': 'पुराण',\n",
       "  '#Cards': 5,\n",
       "  'Cards': ['४ ब्रह्मा पुत्र : सनक सनन्दन सनातन सनतकुमार',\n",
       "   '९ ब्रह्मा : भृगु अत्री अङ्गिरा पुलस्त्य पुलह क्रतु वसिष्ठ दक्ष मरीचि',\n",
       "   'शिव : मातृहीन पितृहीन गुणहीन धनहीन।\\nगृहहीन उदासीन विपिन विहारी है॥\\n\\nशेषगंग भालचंद्र नेत्रलाल कंठव्याल।\\nभस्मयुक्त नग्नतन जटाजुटधारी है॥\\n\\nभुतेश्वर नागेश्वर डमरू त्रिशुलधर।\\nअसुचि का घर बैल उसकी सवारी है॥\\n\\nसत्यम शिवम सुंदरम उसे कहे वेद।\\nकन्या का तुम्हारी वही शिव अधिकारी है॥',\n",
       "   'ज्ञाता ज्ञान ज्ञेय : ज्ञाता ज्ञानं तथा ज्ञेयं द्रष्टा दर्शनदृश्यभूः \\u2060। \\nकर्ता हेतुः क्रिया यस्मात् तस्मै ज्ञप्त्यात्मने\\xa0नमः\\xa0\\u2060।\\u2060।',\n",
       "   'उपनिषद : ऐतरेयोपनिषद्\\nकौशितकी उपनिषद्\\n\\nबृहदारण्यकोपनिषद्\\nईशावास्योपनिषद्\\n\\nतैत्तरीयोपनिषद्\\nकठोपनिषद्\\nश्वेताश्वतरोपनिषद्\\nमैत्रायणी उपनिषद्\\n\\nछान्दोग्योपनिषद्\\nकेनोपनिषद्\\n\\nमुण्डकोपनिषद्\\nमाण्डूक्योपनिषद्\\nप्रश्नोपनिषद्']},\n",
       " {'Name': 'Test',\n",
       "  '#Cards': 1,\n",
       "  'Cards': ['Multiline\\nFront! : Multiline\\nBack :D']},\n",
       " {'Name': 'Facts',\n",
       "  '#Cards': 4,\n",
       "  'Cards': ['हिन्दी में सबसे लंबा शब्द : लौहपथगामिनीसूचकदर्शकहरितताम्रलौहपट्टिका',\n",
       "   'विद्यार्थी लक्षण  : काकचेष्टा बकोध्यानं श्वाननिद्रा तथैव च।\\nअल्पहारी गृहत्यागी विद्यार्थी\\xa0पंचलक्षणम्॥',\n",
       "   'सुखार्थी-विद्यार्थी : सुखार्थी वा त्यजेत विद्या विद्यार्थी वा त्यजेत् सुखम्।\\nसुखार्थिनः कुतो विद्या विद्यार्थिनः\\xa0कुतो\\xa0सुखम्॥',\n",
       "   'नाड़ियाँ : ७२००० नाड़ियाँ \\n३ मुख्य नाड़ी - सुषुम्ना, पिंगला, इडा\\nचक्र से निकलने वाली नाड़ी कुल ३६०']}]"
      ]
     },
     "execution_count": 2,
     "metadata": {},
     "output_type": "execute_result"
    }
   ],
   "source": [
    "app.get_all(verbose=False)"
   ]
  },
  {
   "cell_type": "code",
   "execution_count": null,
   "metadata": {},
   "outputs": [],
   "source": [
    "# app.remove_card(card_id=\"284ded8d8d0dfc7dbf1d201c0a3d0c65\")\n",
    "# app.remove_category(category_name=\"Test\")"
   ]
  },
  {
   "cell_type": "code",
   "execution_count": null,
   "metadata": {},
   "outputs": [],
   "source": [
    "app.random(category_name=\"पुराण\")"
   ]
  },
  {
   "cell_type": "code",
   "execution_count": null,
   "metadata": {},
   "outputs": [],
   "source": [
    "class SingletonMeta(type):\n",
    "    _instances = {}\n",
    "\n",
    "    def __call__(cls, *args, **kwargs):\n",
    "        print(\"__call__\")\n",
    "        if cls not in cls._instances:\n",
    "            cls._instances[cls] = super().__call__(*args, **kwargs)\n",
    "        return cls._instances[cls]\n",
    "\n",
    "class Singleton(metaclass=SingletonMeta):\n",
    "    def __init__(self, *args, **kwargs):\n",
    "        print(\"__init__\", args, kwargs)\n",
    "\n",
    "class Singleton2(metaclass=SingletonMeta):\n",
    "    def __init__(self, *args, **kwargs):\n",
    "        print(\"__init__\", args, kwargs)"
   ]
  },
  {
   "cell_type": "code",
   "execution_count": null,
   "metadata": {},
   "outputs": [],
   "source": [
    "s = Singleton(x=10)\n",
    "s = Singleton(y=1)\n",
    "s = Singleton()\n",
    "s._instances"
   ]
  },
  {
   "cell_type": "code",
   "execution_count": null,
   "metadata": {},
   "outputs": [],
   "source": [
    "Singleton2._instances"
   ]
  }
 ],
 "metadata": {
  "kernelspec": {
   "display_name": "brainy",
   "language": "python",
   "name": "python3"
  },
  "language_info": {
   "codemirror_mode": {
    "name": "ipython",
    "version": 3
   },
   "file_extension": ".py",
   "mimetype": "text/x-python",
   "name": "python",
   "nbconvert_exporter": "python",
   "pygments_lexer": "ipython3",
   "version": "3.12.3"
  }
 },
 "nbformat": 4,
 "nbformat_minor": 2
}
